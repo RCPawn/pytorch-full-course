{
  "nbformat": 4,
  "nbformat_minor": 0,
  "metadata": {
    "colab": {
      "provenance": [],
      "gpuType": "T4",
      "authorship_tag": "ABX9TyOkU0zMlEB5w1axSmCjJZMt",
      "include_colab_link": true
    },
    "kernelspec": {
      "name": "python3",
      "display_name": "Python 3"
    },
    "language_info": {
      "name": "python"
    },
    "accelerator": "GPU"
  },
  "cells": [
    {
      "cell_type": "markdown",
      "metadata": {
        "id": "view-in-github",
        "colab_type": "text"
      },
      "source": [
        "<a href=\"https://colab.research.google.com/github/RCPawn/pytorch-full-course/blob/main/01_pytorch_workflow_video.ipynb\" target=\"_parent\"><img src=\"https://colab.research.google.com/assets/colab-badge.svg\" alt=\"Open In Colab\"/></a>"
      ]
    },
    {
      "cell_type": "markdown",
      "source": [
        "# PyTorch Workflow\n",
        "\n",
        "Let's explore a an example PyTorch end-to-end workflow.\n",
        "\n",
        "Resources:\n",
        "* Ground truth notebook - https://github.com/mrdbourke/pytorch-deep-learning"
      ],
      "metadata": {
        "id": "XXLzMivEKHr2"
      }
    },
    {
      "cell_type": "code",
      "source": [
        "what_were_covering = {1: \"data (prepare and load)\",\n",
        "            2: \"build model\",\n",
        "            3: \"fitting the model to data (training)\",\n",
        "            4: \"making predictions and evaluateing a model (inference)\",\n",
        "            5: \"saving and loading a model\",\n",
        "            6: \"putting it all together\"}\n",
        "what_were_covering"
      ],
      "metadata": {
        "colab": {
          "base_uri": "https://localhost:8080/"
        },
        "id": "kdE_u3VxL6RR",
        "outputId": "aaa2182c-6c83-4158-be1d-b48f7e748876"
      },
      "execution_count": 3,
      "outputs": [
        {
          "output_type": "execute_result",
          "data": {
            "text/plain": [
              "{1: 'data (prepare and load)',\n",
              " 2: 'build model',\n",
              " 3: 'fitting the model to data (training)',\n",
              " 4: 'making predictions and evaluateing a model (inference)',\n",
              " 5: 'saving and loading a model',\n",
              " 6: 'putting it all together'}"
            ]
          },
          "metadata": {},
          "execution_count": 3
        }
      ]
    },
    {
      "cell_type": "code",
      "source": [
        "import torch\n",
        "from torch import nn\n",
        "import matplotlib.pyplot as plt\n",
        "\n",
        "# check pytorch version\n",
        "torch.__version__"
      ],
      "metadata": {
        "id": "Cn2znmT_L6Nz",
        "colab": {
          "base_uri": "https://localhost:8080/",
          "height": 35
        },
        "outputId": "d48c29d1-b8f4-4821-b8e6-d8fd224d5460"
      },
      "execution_count": 4,
      "outputs": [
        {
          "output_type": "execute_result",
          "data": {
            "text/plain": [
              "'2.5.1+cu124'"
            ],
            "application/vnd.google.colaboratory.intrinsic+json": {
              "type": "string"
            }
          },
          "metadata": {},
          "execution_count": 4
        }
      ]
    },
    {
      "cell_type": "markdown",
      "source": [
        "## Data (preparing and loading)\n",
        "\n",
        "Data can be almost anything... in machine learning.\n",
        "\n",
        "* Excel speadsheet\n",
        "* Images of any kind\n",
        "* Videos (YouTube has lots of data)\n",
        "* Audio like songs or podcasts\n",
        "* DNA\n",
        "* Text\n",
        "\n",
        "Machine learning is a game of two parts:\n",
        "1. Get data into a numerical representation.\n",
        "2. Build a model to learn patterns in that numerical representation.\n",
        "\n",
        "To showcase this, let's create some *known* data using the linear regression formula.\n",
        "\n",
        "We'll use a linear regression formula to make a straight line with *known* **parameters**."
      ],
      "metadata": {
        "id": "ICkwwFDvL6LY"
      }
    },
    {
      "cell_type": "code",
      "source": [
        "# Create a *known* linear regression formula\n",
        "weight = 0.7\n",
        "bias = 0.3\n",
        "\n",
        "# Craete\n",
        "start = 0\n",
        "end = 1\n",
        "step = 0.02\n",
        "X = torch.arange(start, end, step).unsqueeze(dim=1)\n",
        "y = weight * X + bias\n",
        "\n",
        "X[:10], y[:10]"
      ],
      "metadata": {
        "id": "TA4g6l15L6Ha",
        "colab": {
          "base_uri": "https://localhost:8080/"
        },
        "outputId": "c8c08834-f8b5-4efc-8671-481e83201376"
      },
      "execution_count": 7,
      "outputs": [
        {
          "output_type": "execute_result",
          "data": {
            "text/plain": [
              "(tensor([[0.0000],\n",
              "         [0.0200],\n",
              "         [0.0400],\n",
              "         [0.0600],\n",
              "         [0.0800],\n",
              "         [0.1000],\n",
              "         [0.1200],\n",
              "         [0.1400],\n",
              "         [0.1600],\n",
              "         [0.1800]]),\n",
              " tensor([[0.3000],\n",
              "         [0.3140],\n",
              "         [0.3280],\n",
              "         [0.3420],\n",
              "         [0.3560],\n",
              "         [0.3700],\n",
              "         [0.3840],\n",
              "         [0.3980],\n",
              "         [0.4120],\n",
              "         [0.4260]]))"
            ]
          },
          "metadata": {},
          "execution_count": 7
        }
      ]
    },
    {
      "cell_type": "code",
      "source": [
        "len(X), len(y)"
      ],
      "metadata": {
        "id": "j57jYS2mL6DL",
        "colab": {
          "base_uri": "https://localhost:8080/"
        },
        "outputId": "6276bd74-33c0-40f1-fd02-4bda130dd34d"
      },
      "execution_count": 8,
      "outputs": [
        {
          "output_type": "execute_result",
          "data": {
            "text/plain": [
              "(50, 50)"
            ]
          },
          "metadata": {},
          "execution_count": 8
        }
      ]
    },
    {
      "cell_type": "markdown",
      "source": [
        "### Splitting data into training and test sets (one of the most important concepts in machine learning in general)\n",
        "\n",
        "Let's create a training and test split of our data."
      ],
      "metadata": {
        "id": "CfuS-xFKL6BI"
      }
    },
    {
      "cell_type": "code",
      "source": [
        "# Create a train/test split\n",
        "train_split = int(0.8 * len(X))\n",
        "X_train, y_train = X[:train_split], y[:train_split]\n",
        "X_test, y_test = X[train_split:], y[train_split:]\n",
        "\n",
        "len(X_train), len(y_train), len(X_test), len(y_test)"
      ],
      "metadata": {
        "id": "8SeubRZHL5-z",
        "colab": {
          "base_uri": "https://localhost:8080/"
        },
        "outputId": "f77cd7bc-dcc7-4580-d357-b6b134a2d8e7"
      },
      "execution_count": 9,
      "outputs": [
        {
          "output_type": "execute_result",
          "data": {
            "text/plain": [
              "(40, 40, 10, 10)"
            ]
          },
          "metadata": {},
          "execution_count": 9
        }
      ]
    },
    {
      "cell_type": "code",
      "source": [
        "X_train, y_train"
      ],
      "metadata": {
        "id": "4mc3CL-CL58e",
        "colab": {
          "base_uri": "https://localhost:8080/"
        },
        "outputId": "ef16c2e6-d697-40cd-cba1-00d48cac169e"
      },
      "execution_count": 10,
      "outputs": [
        {
          "output_type": "execute_result",
          "data": {
            "text/plain": [
              "(tensor([[0.0000],\n",
              "         [0.0200],\n",
              "         [0.0400],\n",
              "         [0.0600],\n",
              "         [0.0800],\n",
              "         [0.1000],\n",
              "         [0.1200],\n",
              "         [0.1400],\n",
              "         [0.1600],\n",
              "         [0.1800],\n",
              "         [0.2000],\n",
              "         [0.2200],\n",
              "         [0.2400],\n",
              "         [0.2600],\n",
              "         [0.2800],\n",
              "         [0.3000],\n",
              "         [0.3200],\n",
              "         [0.3400],\n",
              "         [0.3600],\n",
              "         [0.3800],\n",
              "         [0.4000],\n",
              "         [0.4200],\n",
              "         [0.4400],\n",
              "         [0.4600],\n",
              "         [0.4800],\n",
              "         [0.5000],\n",
              "         [0.5200],\n",
              "         [0.5400],\n",
              "         [0.5600],\n",
              "         [0.5800],\n",
              "         [0.6000],\n",
              "         [0.6200],\n",
              "         [0.6400],\n",
              "         [0.6600],\n",
              "         [0.6800],\n",
              "         [0.7000],\n",
              "         [0.7200],\n",
              "         [0.7400],\n",
              "         [0.7600],\n",
              "         [0.7800]]),\n",
              " tensor([[0.3000],\n",
              "         [0.3140],\n",
              "         [0.3280],\n",
              "         [0.3420],\n",
              "         [0.3560],\n",
              "         [0.3700],\n",
              "         [0.3840],\n",
              "         [0.3980],\n",
              "         [0.4120],\n",
              "         [0.4260],\n",
              "         [0.4400],\n",
              "         [0.4540],\n",
              "         [0.4680],\n",
              "         [0.4820],\n",
              "         [0.4960],\n",
              "         [0.5100],\n",
              "         [0.5240],\n",
              "         [0.5380],\n",
              "         [0.5520],\n",
              "         [0.5660],\n",
              "         [0.5800],\n",
              "         [0.5940],\n",
              "         [0.6080],\n",
              "         [0.6220],\n",
              "         [0.6360],\n",
              "         [0.6500],\n",
              "         [0.6640],\n",
              "         [0.6780],\n",
              "         [0.6920],\n",
              "         [0.7060],\n",
              "         [0.7200],\n",
              "         [0.7340],\n",
              "         [0.7480],\n",
              "         [0.7620],\n",
              "         [0.7760],\n",
              "         [0.7900],\n",
              "         [0.8040],\n",
              "         [0.8180],\n",
              "         [0.8320],\n",
              "         [0.8460]]))"
            ]
          },
          "metadata": {},
          "execution_count": 10
        }
      ]
    },
    {
      "cell_type": "code",
      "source": [],
      "metadata": {
        "id": "AgT2L4u8L552"
      },
      "execution_count": null,
      "outputs": []
    },
    {
      "cell_type": "code",
      "source": [],
      "metadata": {
        "id": "IK4M4QQCL53U"
      },
      "execution_count": null,
      "outputs": []
    }
  ]
}