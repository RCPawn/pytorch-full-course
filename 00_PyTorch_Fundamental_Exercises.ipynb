{
  "nbformat": 4,
  "nbformat_minor": 0,
  "metadata": {
    "colab": {
      "provenance": [],
      "gpuType": "T4",
      "authorship_tag": "ABX9TyM8ZEZvNr1zEnDv/rOJNBDc",
      "include_colab_link": true
    },
    "kernelspec": {
      "name": "python3",
      "display_name": "Python 3"
    },
    "language_info": {
      "name": "python"
    },
    "accelerator": "GPU"
  },
  "cells": [
    {
      "cell_type": "markdown",
      "metadata": {
        "id": "view-in-github",
        "colab_type": "text"
      },
      "source": [
        "<a href=\"https://colab.research.google.com/github/RCPawn/pytorch-full-course/blob/main/00_PyTorch_Fundamental_Exercises.ipynb\" target=\"_parent\"><img src=\"https://colab.research.google.com/assets/colab-badge.svg\" alt=\"Open In Colab\"/></a>"
      ]
    },
    {
      "cell_type": "markdown",
      "source": [
        "# Pytorch Fundamentals Excercises"
      ],
      "metadata": {
        "id": "B7dvKgN9UKkq"
      }
    },
    {
      "cell_type": "markdown",
      "source": [
        "## 1. Documentation reading\n",
        "A big part of deep learning (and learning to code in general) is getting familiar with the documentation of a certain framework you're using.We'll be using the PyTorch documentation a lot throughout the rest of this course. So I'd recommend spending 10-minutes reading the following (it's okay if you don't get some things for now, the focus is not yet full understanding, it's awareness:\n",
        "- The documentation on [torch.Tensor](https://pytorch.org/docs/stable/tensors.html)  \n",
        "- The documentation on [torch.cuda](https://pytorch.org/docs/stable/cuda.html)\n"
      ],
      "metadata": {
        "id": "eyhvxAHfh2cU"
      }
    },
    {
      "cell_type": "code",
      "execution_count": 5,
      "metadata": {
        "colab": {
          "base_uri": "https://localhost:8080/"
        },
        "id": "LeJUexm4UD2u",
        "outputId": "6ba87d06-8923-47c5-e623-257864218b19"
      },
      "outputs": [
        {
          "output_type": "stream",
          "name": "stdout",
          "text": [
            "2.5.1+cu124\n"
          ]
        }
      ],
      "source": [
        "import torch\n",
        "import pandas as pd\n",
        "import numpy as np\n",
        "import matplotlib.pyplot as plt\n",
        "print(torch.__version__)"
      ]
    },
    {
      "cell_type": "markdown",
      "source": [
        "## 2. Create a random tensor with shape (7, 7)."
      ],
      "metadata": {
        "id": "HWi5jr5oUTtp"
      }
    },
    {
      "cell_type": "code",
      "source": [
        "# Create a random tensor\n",
        "random_tensor = torch.rand(7, 7)\n",
        "random_tensor"
      ],
      "metadata": {
        "colab": {
          "base_uri": "https://localhost:8080/"
        },
        "id": "3kgHH_2XUTq_",
        "outputId": "6cf27a60-ef13-4c94-a7a7-081463d912d2"
      },
      "execution_count": 6,
      "outputs": [
        {
          "output_type": "execute_result",
          "data": {
            "text/plain": [
              "tensor([[0.7749, 0.8208, 0.2793, 0.6817, 0.2837, 0.6567, 0.2388],\n",
              "        [0.7313, 0.6012, 0.3043, 0.2548, 0.6294, 0.9665, 0.7399],\n",
              "        [0.4517, 0.4757, 0.7842, 0.1525, 0.6662, 0.3343, 0.7893],\n",
              "        [0.3216, 0.5247, 0.6688, 0.8436, 0.4265, 0.9561, 0.0770],\n",
              "        [0.4108, 0.0014, 0.5414, 0.6419, 0.2976, 0.7077, 0.4189],\n",
              "        [0.0655, 0.8839, 0.8083, 0.7528, 0.8988, 0.6839, 0.7658],\n",
              "        [0.9149, 0.3993, 0.1100, 0.2541, 0.4333, 0.4451, 0.4966]])"
            ]
          },
          "metadata": {},
          "execution_count": 6
        }
      ]
    },
    {
      "cell_type": "markdown",
      "source": [
        "## 3. Perform a matrix mutiplication on the tensor from 1 with another random tensor with shape (1, 7) (hint: you may have to transpose the second tensor)"
      ],
      "metadata": {
        "id": "EAPod9MkUTo5"
      }
    },
    {
      "cell_type": "code",
      "source": [
        "# Create another tensor\n",
        "another_tensor = torch.rand(1, 7)\n",
        "\n",
        "# Method1: (7, 7) @ (7, 1)\n",
        "# Transpose another tensor and perform martrix mutiplication\n",
        "result1 = torch.matmul(random_tensor, another_tensor.T)\n",
        "\n",
        "# Method2: (1, 7) @ (7, 7)\n",
        "result2 = torch.matmul(another_tensor, random_tensor)\n",
        "\n",
        "print(f'Method1: {result1}')\n",
        "print(f'Method2: {result2}')"
      ],
      "metadata": {
        "colab": {
          "base_uri": "https://localhost:8080/"
        },
        "id": "QP1hzp2TUTm0",
        "outputId": "d0d1cf20-cd4e-4b6f-bd6c-e254d52e062d"
      },
      "execution_count": 7,
      "outputs": [
        {
          "output_type": "stream",
          "name": "stdout",
          "text": [
            "Method1: tensor([[2.1391],\n",
            "        [2.3548],\n",
            "        [1.6001],\n",
            "        [1.9384],\n",
            "        [1.4356],\n",
            "        [2.1416],\n",
            "        [1.7684]])\n",
            "Method2: tensor([[1.7650, 2.1268, 1.6490, 1.9513, 1.8495, 2.4953, 1.7406]])\n"
          ]
        }
      ]
    },
    {
      "cell_type": "markdown",
      "source": [
        "## 4. Set the random seed to 0 and do 2 & 3 over again."
      ],
      "metadata": {
        "id": "kR1lucIAUTkS"
      }
    },
    {
      "cell_type": "code",
      "source": [
        "# Set manual seed\n",
        "torch.manual_seed(0)\n",
        "\n",
        "# Create two random tensors\n",
        "random_tensor1 = torch.rand(7, 7)\n",
        "random_tensor2 = torch.rand(1, 7)\n",
        "\n",
        "# Matrix mutiply tensors\n",
        "result1 = torch.matmul(random_tensor1, random_tensor2.T)\n",
        "result2 = torch.matmul(random_tensor2, random_tensor1)\n",
        "\n",
        "print(f'Method1: {result1}')\n",
        "print(f'Method2: {result2}')"
      ],
      "metadata": {
        "colab": {
          "base_uri": "https://localhost:8080/"
        },
        "id": "iJDnK1JCUTh-",
        "outputId": "53b45ef4-6dcd-498f-a74d-e383ce19c397"
      },
      "execution_count": 8,
      "outputs": [
        {
          "output_type": "stream",
          "name": "stdout",
          "text": [
            "Method1: tensor([[1.8542],\n",
            "        [1.9611],\n",
            "        [2.2884],\n",
            "        [3.0481],\n",
            "        [1.7067],\n",
            "        [2.5290],\n",
            "        [1.7989]])\n",
            "Method2: tensor([[2.1581, 1.9307, 2.8454, 2.6230, 1.9117, 2.0266, 1.4257]])\n"
          ]
        }
      ]
    },
    {
      "cell_type": "markdown",
      "source": [
        "## 5. Speaking of random seeds, we saw how to set it with torch.manual_seed() but is there a GPU equivalent? (hint: you'll need to look into the documentation for torch.cuda for this one)\n",
        "- if there is, set the GPU random seed to 1234"
      ],
      "metadata": {
        "id": "jR8NshekUTf4"
      }
    },
    {
      "cell_type": "code",
      "source": [
        "# Set random seed on the GPU\n",
        "torch.cuda.manual_seed(1234)"
      ],
      "metadata": {
        "id": "g_tN5Y02UTch"
      },
      "execution_count": 9,
      "outputs": []
    },
    {
      "cell_type": "markdown",
      "source": [
        "## 6. Create two random tensors of shape (2, 3) and send them both to the GPU (you'll need access to a GPU for this). Set torch.manual_seed(1234) when creating the tensors (this doesn't have to be the GPU random seed)."
      ],
      "metadata": {
        "id": "wq8lz-ojUTaa"
      }
    },
    {
      "cell_type": "code",
      "source": [
        "# Set random seed\n",
        "torch.manual_seed(1234)\n",
        "\n",
        "# Check for access to GPU\n",
        "device = 'cuda' if torch.cuda.is_available() else 'cpu'\n",
        "print(f'Device: {device}')\n",
        "\n",
        "# Create two random tensors on GPU\n",
        "random_tensor1 = torch.rand(2, 3).to(device)\n",
        "random_tensor2 = torch.rand(2, 3).to(device)\n",
        "\n",
        "# output\n",
        "print(f'Tensor1: {random_tensor1}')\n",
        "print(f'Tensor2: {random_tensor2}')"
      ],
      "metadata": {
        "colab": {
          "base_uri": "https://localhost:8080/"
        },
        "id": "I7KBlXyQUTYg",
        "outputId": "08649b28-79a2-491c-a39c-3dd039b7fc7b"
      },
      "execution_count": 10,
      "outputs": [
        {
          "output_type": "stream",
          "name": "stdout",
          "text": [
            "Device: cuda\n",
            "Tensor1: tensor([[0.0290, 0.4019, 0.2598],\n",
            "        [0.3666, 0.0583, 0.7006]], device='cuda:0')\n",
            "Tensor2: tensor([[0.0518, 0.4681, 0.6738],\n",
            "        [0.3315, 0.7837, 0.5631]], device='cuda:0')\n"
          ]
        }
      ]
    },
    {
      "cell_type": "markdown",
      "source": [
        "## 7. Perform a matrix mutiplication on the tensors you created in 6 (again, you may have to adjust the shapes of one of the tensors)."
      ],
      "metadata": {
        "id": "op1ZFyYfgSB3"
      }
    },
    {
      "cell_type": "code",
      "source": [
        "# Perform matmul on random_tensor1 and random_tensor2\n",
        "result = torch.matmul(random_tensor1, random_tensor2.T)\n",
        "result, result.shape"
      ],
      "metadata": {
        "colab": {
          "base_uri": "https://localhost:8080/"
        },
        "id": "j8cLLmC3hYKV",
        "outputId": "3c2350b9-bbe9-4df6-88e3-a24a0611d6ad"
      },
      "execution_count": 12,
      "outputs": [
        {
          "output_type": "execute_result",
          "data": {
            "text/plain": [
              "(tensor([[0.3647, 0.4709],\n",
              "         [0.5184, 0.5617]], device='cuda:0'),\n",
              " torch.Size([2, 2]))"
            ]
          },
          "metadata": {},
          "execution_count": 12
        }
      ]
    },
    {
      "cell_type": "markdown",
      "source": [
        "## 8. Find the maximum and minimum values of the output of 7."
      ],
      "metadata": {
        "id": "XWbRQ41RhYG7"
      }
    },
    {
      "cell_type": "code",
      "source": [
        "# Find max\n",
        "print(f'Max: {result.max()}')\n",
        "\n",
        "# Find min\n",
        "print(f'Min: {result.min()}')"
      ],
      "metadata": {
        "colab": {
          "base_uri": "https://localhost:8080/"
        },
        "id": "zgo6bh_fhYEz",
        "outputId": "618dd766-855b-4d29-ad16-dd95d5a72ef5"
      },
      "execution_count": 13,
      "outputs": [
        {
          "output_type": "stream",
          "name": "stdout",
          "text": [
            "Max: 0.5617256760597229\n",
            "Min: 0.3647301495075226\n"
          ]
        }
      ]
    },
    {
      "cell_type": "markdown",
      "source": [
        "## 9. Find the maximum and minimum index values of the output of 7.\n",
        "\n",
        "- Without dim, PyTorch will flatten the tensor into 1D and return the index of the global maximum/minimum value.\n",
        "- With dim:\n",
        "  - dim=0 searches by column and returns the index of the maximum/minimum value of each column.\n",
        "  - dim=1 searches by row and returns the index of the maximum/minimum value of each row."
      ],
      "metadata": {
        "id": "1nGrTP41hYC0"
      }
    },
    {
      "cell_type": "code",
      "source": [
        "# Find agr max\n",
        "print(f'Arg max: {result.argmax()}')\n",
        "\n",
        "# Find arg min\n",
        "print(f'Arg min: {result.argmin()}')"
      ],
      "metadata": {
        "colab": {
          "base_uri": "https://localhost:8080/"
        },
        "id": "qEQMgILNgR_-",
        "outputId": "2f0dba6d-4383-4594-95d8-a0bbe55454e3"
      },
      "execution_count": 14,
      "outputs": [
        {
          "output_type": "stream",
          "name": "stdout",
          "text": [
            "Arg max: 3\n",
            "Arg min: 0\n"
          ]
        }
      ]
    },
    {
      "cell_type": "markdown",
      "source": [
        "## 10. Make a random tensor with shape (1, 1, 1, 10) and then create a new tensor with all the 1 dimensions removed to be left with a tensor of shape (10). Set the seed to 7 when you create it and print out the first tensor and it's shape as well as the second tensor and it's shape."
      ],
      "metadata": {
        "id": "j2XLbFGFgR-F"
      }
    },
    {
      "cell_type": "code",
      "source": [
        "# Set seed\n",
        "torch.manual_seed(7)\n",
        "\n",
        "# Create random tensor\n",
        "random_tensor = torch.rand(1, 1, 1, 10)\n",
        "\n",
        "# Remove single dimensions\n",
        "random_tensor_squeezed = random_tensor.squeeze()\n",
        "\n",
        "# Print out tensors and their shapes\n",
        "print(f'Random tensor: {random_tensor}')\n",
        "print(f'Random tensor shape: {random_tensor.shape}')\n",
        "print(f'Squeezed tensor: {random_tensor_squeezed}')"
      ],
      "metadata": {
        "colab": {
          "base_uri": "https://localhost:8080/"
        },
        "id": "D-m_CCEsgR8P",
        "outputId": "a8bdbf50-fb84-4428-dc82-a5a5219b8d38"
      },
      "execution_count": 15,
      "outputs": [
        {
          "output_type": "stream",
          "name": "stdout",
          "text": [
            "Random tensor: tensor([[[[0.5349, 0.1988, 0.6592, 0.6569, 0.2328, 0.4251, 0.2071, 0.6297,\n",
            "           0.3653, 0.8513]]]])\n",
            "Random tensor shape: torch.Size([1, 1, 1, 10])\n",
            "Squeezed tensor: tensor([0.5349, 0.1988, 0.6592, 0.6569, 0.2328, 0.4251, 0.2071, 0.6297, 0.3653,\n",
            "        0.8513])\n"
          ]
        }
      ]
    }
  ]
}